{
 "metadata": {
  "name": "whats_coming"
 },
 "nbformat": 3,
 "nbformat_minor": 0,
 "worksheets": [
  {
   "cells": [
    {
     "cell_type": "heading",
     "level": 3,
     "metadata": {},
     "source": [
      "Google Summer of Code"
     ]
    },
    {
     "cell_type": "markdown",
     "metadata": {},
     "source": [
      "Multivariate KDE and nonparametric regression\n",
      "\n",
      "Systems of Equations Models\n",
      "\n",
      "Empirical Likelihood estimators\n",
      "\n",
      "Robust Non-Linear Estimators"
     ]
    },
    {
     "cell_type": "heading",
     "level": 3,
     "metadata": {},
     "source": [
      "Formulas"
     ]
    },
    {
     "cell_type": "raw",
     "metadata": {},
     "source": [
      "Continued integration with the formula code. API changes. Feedback welcome!"
     ]
    },
    {
     "cell_type": "heading",
     "level": 3,
     "metadata": {},
     "source": [
      "Seasonal Data"
     ]
    },
    {
     "cell_type": "raw",
     "metadata": {},
     "source": [
      "Multiplicative and Additive SARIMA models, seasonal filtering methods"
     ]
    },
    {
     "cell_type": "heading",
     "level": 3,
     "metadata": {},
     "source": [
      "Time Series Models"
     ]
    },
    {
     "cell_type": "raw",
     "metadata": {},
     "source": [
      "GARCH(1,1), VECM, Bayesian VAR, Fast Kalman filtering and non-linear state-space methods"
     ]
    },
    {
     "cell_type": "heading",
     "level": 3,
     "metadata": {},
     "source": [
      "What else?"
     ]
    },
    {
     "cell_type": "raw",
     "metadata": {},
     "source": [
      "Generalized Additive Models, Mixed Effects Models, Panel Data Models, Censored and Truncated Regression Models (Tobit, Heckman), Instrumental Variables, parallel Monte Carlo..."
     ]
    }
   ],
   "metadata": {}
  }
 ]
}