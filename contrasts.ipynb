{
 "metadata": {
  "name": "contrasts"
 },
 "nbformat": 3,
 "nbformat_minor": 0,
 "worksheets": [
  {
   "cells": [
    {
     "cell_type": "heading",
     "level": 3,
     "metadata": {},
     "source": [
      "Contrasts Overview"
     ]
    },
    {
     "cell_type": "markdown",
     "metadata": {},
     "source": [
      "This document is based heavily on this excellent resource from UCLA http://www.ats.ucla.edu/stat/r/library/contrast_coding.htm"
     ]
    },
    {
     "cell_type": "raw",
     "metadata": {},
     "source": [
      "A categorical variable of K categories, or levels, usually enters a regression as a sequence of K-1 dummy variables. This amounts to a linear hypothesis on the level means. That is, each test statistic for these variables amounts to testing whether the mean for that level is statistically significantly different from the mean of the base category. This dummy coding is called Treatment coding in R parlance, and we will follow this convention. There are, however, different coding methods that amount to different sets of linear hypotheses.\n",
      "\n",
      "In fact, the dummy coding is not technically a contrast coding. This is because the dummy variables add to one and are not functionally independent of the model's intercept. On the other hand, a set of *contrasts* for a categorical variable with `k` levels is a set of `k-1` functionally independent linear combinations of the factor level means that are also independent of the sum of the dummy variables. The dummy coding isn't wrong *per se*. It captures all of the coefficients, but it complicates matters when the model assumes independence of the coefficients such as in ANOVA. Linear regression models do not assume independence of the coefficients and thus dummy coding is often the only coding that is taught in this context.\n",
      "\n",
      "To have a look at the contrast matrices in Patsy, we will use data from UCLA ATS. First let's load the data."
     ]
    },
    {
     "cell_type": "heading",
     "level": 4,
     "metadata": {},
     "source": [
      "Example Data"
     ]
    },
    {
     "cell_type": "code",
     "collapsed": false,
     "input": [
      "import pandas\n",
      "url = 'http://www.ats.ucla.edu/stat/R/notes/hsb2_nolabel.csv'\n",
      "hsb2 = pandas.read_table(url, delimiter=\",\")"
     ],
     "language": "python",
     "metadata": {},
     "outputs": [],
     "prompt_number": 1
    },
    {
     "cell_type": "raw",
     "metadata": {},
     "source": [
      "It will be instructive to look at the mean of the dependent variable, write, for each level of race ((1 = Hispanic, 2 = Asian, 3 = African American and 4 = Caucasian))."
     ]
    },
    {
     "cell_type": "code",
     "collapsed": false,
     "input": [
      "hsb2.groupby('race')['write'].mean()"
     ],
     "language": "python",
     "metadata": {},
     "outputs": [
      {
       "output_type": "pyout",
       "prompt_number": 2,
       "text": [
        "race\n",
        "1       46.458\n",
        "2       58.000\n",
        "3       48.200\n",
        "4       54.055\n",
        "Name: write"
       ]
      }
     ],
     "prompt_number": 2
    },
    {
     "cell_type": "heading",
     "level": 4,
     "metadata": {},
     "source": [
      "Treatment (Dummy) Coding"
     ]
    },
    {
     "cell_type": "raw",
     "metadata": {},
     "source": [
      "Dummy coding is likely the most well known coding scheme. It compares each level of the categorical variable to a base reference level. The base reference level is the value of the intercept. It is the default contrast in Patsy for unordered categorical factors. The Treatment contrast matrix for race would be"
     ]
    },
    {
     "cell_type": "code",
     "collapsed": false,
     "input": [
      "from patsy.contrasts import Treatment\n",
      "levels = [1,2,3,4]\n",
      "contrast = Treatment(reference=0).code_without_intercept(levels)\n",
      "print contrast.matrix"
     ],
     "language": "python",
     "metadata": {},
     "outputs": [
      {
       "output_type": "stream",
       "stream": "stdout",
       "text": [
        "[[ 0.  0.  0.]\n",
        " [ 1.  0.  0.]\n",
        " [ 0.  1.  0.]\n",
        " [ 0.  0.  1.]]\n"
       ]
      }
     ],
     "prompt_number": 3
    },
    {
     "cell_type": "raw",
     "metadata": {},
     "source": [
      "Here we used `reference=0`, which implies that the first level, Hispanic, is the reference category against which the other level effects are measured. As mentioned above, the columns do not sum to zero and are thus not independent of the intercept. To be explicit, let's look at how this would encode the `race` variable."
     ]
    },
    {
     "cell_type": "code",
     "collapsed": false,
     "input": [
      "print contrast.matrix[hsb2.race-1, :][:20]"
     ],
     "language": "python",
     "metadata": {},
     "outputs": [
      {
       "output_type": "stream",
       "stream": "stdout",
       "text": [
        "[[ 0.  0.  1.]\n",
        " [ 0.  0.  1.]\n",
        " [ 0.  0.  1.]\n",
        " [ 0.  0.  1.]\n",
        " [ 0.  0.  1.]\n",
        " [ 0.  0.  1.]\n",
        " [ 0.  1.  0.]\n",
        " [ 0.  0.  0.]\n",
        " [ 0.  0.  1.]\n",
        " [ 0.  1.  0.]\n",
        " [ 0.  0.  1.]\n",
        " [ 0.  0.  1.]\n",
        " [ 0.  0.  1.]\n",
        " [ 0.  0.  1.]\n",
        " [ 0.  1.  0.]\n",
        " [ 0.  0.  1.]\n",
        " [ 0.  0.  1.]\n",
        " [ 0.  0.  1.]\n",
        " [ 0.  0.  1.]\n",
        " [ 0.  0.  1.]]\n"
       ]
      }
     ],
     "prompt_number": 4
    },
    {
     "cell_type": "raw",
     "metadata": {},
     "source": [
      "This is a bit of a trick, as the `race` category conveniently maps to zero-based indices. If it does not, this conversion happens under the hood, so this won't work in general but nonetheless is a useful exercise to fix ideas. The below illustrates the output using the three contrasts above"
     ]
    },
    {
     "cell_type": "code",
     "collapsed": false,
     "input": [
      "from statsmodels.formula.api import ols\n",
      "mod = ols(\"write ~ C(race, Treatment)\", df=hsb2)\n",
      "res = mod.fit()\n",
      "print res.summary()"
     ],
     "language": "python",
     "metadata": {},
     "outputs": [
      {
       "output_type": "stream",
       "stream": "stdout",
       "text": [
        "                            OLS Regression Results                            \n",
        "==============================================================================\n",
        "Dep. Variable:                  write   R-squared:                       0.107\n",
        "Model:                            OLS   Adj. R-squared:                  0.093\n",
        "Method:                 Least Squares   F-statistic:                     7.833\n",
        "Date:                Mon, 16 Jul 2012   Prob (F-statistic):           5.78e-05\n",
        "Time:                        12:10:01   Log-Likelihood:                -721.77\n",
        "No. Observations:                 200   AIC:                             1452.\n",
        "Df Residuals:                     196   BIC:                             1465.\n",
        "Df Model:                           3                                         \n",
        "===========================================================================================\n",
        "                              coef    std err          t      P>|t|      [95.0% Conf. Int.]\n",
        "-------------------------------------------------------------------------------------------\n",
        "Intercept                  46.4583      1.842     25.218      0.000        42.825    50.091\n",
        "C(race, Treatment)[T.2]    11.5417      3.286      3.512      0.001         5.061    18.022\n",
        "C(race, Treatment)[T.3]     1.7417      2.732      0.637      0.525        -3.647     7.131\n",
        "C(race, Treatment)[T.4]     7.5968      1.989      3.820      0.000         3.675    11.519\n",
        "==============================================================================\n",
        "Omnibus:                       10.487   Durbin-Watson:                   1.779\n",
        "Prob(Omnibus):                  0.005   Jarque-Bera (JB):               11.031\n",
        "Skew:                          -0.551   Prob(JB):                      0.00402\n",
        "Kurtosis:                       2.670   Cond. No.                         8.25\n",
        "==============================================================================\n"
       ]
      }
     ],
     "prompt_number": 5
    },
    {
     "cell_type": "raw",
     "metadata": {},
     "source": [
      "We explicitly gave the contrast for race; however, since Treatment is the default, we could have omitted this."
     ]
    },
    {
     "cell_type": "heading",
     "level": 3,
     "metadata": {},
     "source": [
      "Simple Coding"
     ]
    },
    {
     "cell_type": "raw",
     "metadata": {},
     "source": [
      "Like Treatment Coding, Simple Coding compares each level to a fixed reference level. However, with simple coding, the intercept is the grand mean of all the levels of the factors. Patsy doesn't have the Simple contrast included, but you can easily define your own contrasts. To do so, write a class that contains a code_with_intercept and a code_without_intercept method that returns a patsy.contrast.ContrastMatrix instance"
     ]
    },
    {
     "cell_type": "code",
     "collapsed": false,
     "input": [
      "from patsy.contrasts import ContrastMatrix\n",
      "\n",
      "def _name_levels(prefix, levels):\n",
      "    return [\"[%s%s]\" % (prefix, level) for level in levels]\n",
      "\n",
      "class Simple(object):\n",
      "    def _simple_contrast(self, levels):\n",
      "        nlevels = len(levels)\n",
      "        contr = -1./nlevels * np.ones((nlevels, nlevels-1))\n",
      "        contr[1:][np.diag_indices(nlevels-1)] = (nlevels-1.)/nlevels\n",
      "        return contr\n",
      "\n",
      "    def code_with_intercept(self, levels):\n",
      "        contrast = np.column_stack((np.ones(len(levels)),\n",
      "                                    self._simple_contrast(levels)))\n",
      "        return ContrastMatrix(contrast, _name_levels(\"Simp.\", levels))\n",
      "\n",
      "    def code_without_intercept(self, levels):\n",
      "        contrast = self._simple_contrast(levels)\n",
      "        return ContrastMatrix(contrast, _name_levels(\"Simp.\", levels[:-1]))"
     ],
     "language": "python",
     "metadata": {},
     "outputs": [],
     "prompt_number": 6
    },
    {
     "cell_type": "code",
     "collapsed": false,
     "input": [
      "contrast = Simple().code_without_intercept(levels)\n",
      "print contrast.matrix"
     ],
     "language": "python",
     "metadata": {},
     "outputs": [
      {
       "output_type": "stream",
       "stream": "stdout",
       "text": [
        "[[-0.25 -0.25 -0.25]\n",
        " [ 0.75 -0.25 -0.25]\n",
        " [-0.25  0.75 -0.25]\n",
        " [-0.25 -0.25  0.75]]\n"
       ]
      }
     ],
     "prompt_number": 7
    },
    {
     "cell_type": "code",
     "collapsed": false,
     "input": [
      "mod = ols(\"write ~ C(race, Simple)\", df=hsb2)\n",
      "res = mod.fit()\n",
      "print res.summary()"
     ],
     "language": "python",
     "metadata": {},
     "outputs": [
      {
       "output_type": "stream",
       "stream": "stdout",
       "text": [
        "                            OLS Regression Results                            \n",
        "==============================================================================\n",
        "Dep. Variable:                  write   R-squared:                       0.107\n",
        "Model:                            OLS   Adj. R-squared:                  0.093\n",
        "Method:                 Least Squares   F-statistic:                     7.833\n",
        "Date:                Mon, 16 Jul 2012   Prob (F-statistic):           5.78e-05\n",
        "Time:                        12:10:01   Log-Likelihood:                -721.77\n",
        "No. Observations:                 200   AIC:                             1452.\n",
        "Df Residuals:                     196   BIC:                             1465.\n",
        "Df Model:                           3                                         \n",
        "===========================================================================================\n",
        "                              coef    std err          t      P>|t|      [95.0% Conf. Int.]\n",
        "-------------------------------------------------------------------------------------------\n",
        "Intercept                  51.6784      0.982     52.619      0.000        49.741    53.615\n",
        "C(race, Simple)[Simp.1]    11.5417      3.286      3.512      0.001         5.061    18.022\n",
        "C(race, Simple)[Simp.2]     1.7417      2.732      0.637      0.525        -3.647     7.131\n",
        "C(race, Simple)[Simp.3]     7.5968      1.989      3.820      0.000         3.675    11.519\n",
        "==============================================================================\n",
        "Omnibus:                       10.487   Durbin-Watson:                   1.779\n",
        "Prob(Omnibus):                  0.005   Jarque-Bera (JB):               11.031\n",
        "Skew:                          -0.551   Prob(JB):                      0.00402\n",
        "Kurtosis:                       2.670   Cond. No.                         7.03\n",
        "==============================================================================\n"
       ]
      }
     ],
     "prompt_number": 8
    },
    {
     "cell_type": "heading",
     "level": 3,
     "metadata": {},
     "source": [
      "Sum (Deviation) Coding"
     ]
    },
    {
     "cell_type": "raw",
     "metadata": {},
     "source": [
      "Sum coding compares the mean of the dependent variable for a given level to the overall mean of the dependent variable over all the levels. That is, it uses contrasts between each of the first k-1 levels and level k In this example, level 1 is compared to all the others, level 2 to all the others, and level 3 to all the others."
     ]
    },
    {
     "cell_type": "code",
     "collapsed": false,
     "input": [
      "from patsy.contrasts import Sum\n",
      "contrast = Sum().code_without_intercept(levels)\n",
      "print contrast.matrix"
     ],
     "language": "python",
     "metadata": {},
     "outputs": [
      {
       "output_type": "stream",
       "stream": "stdout",
       "text": [
        "[[ 1.  0.  0.]\n",
        " [ 0.  1.  0.]\n",
        " [ 0.  0.  1.]\n",
        " [-1. -1. -1.]]\n"
       ]
      }
     ],
     "prompt_number": 9
    },
    {
     "cell_type": "code",
     "collapsed": false,
     "input": [
      "mod = ols(\"write ~ C(race, Sum)\", df=hsb2)\n",
      "res = mod.fit()\n",
      "print res.summary()"
     ],
     "language": "python",
     "metadata": {},
     "outputs": [
      {
       "output_type": "stream",
       "stream": "stdout",
       "text": [
        "                            OLS Regression Results                            \n",
        "==============================================================================\n",
        "Dep. Variable:                  write   R-squared:                       0.107\n",
        "Model:                            OLS   Adj. R-squared:                  0.093\n",
        "Method:                 Least Squares   F-statistic:                     7.833\n",
        "Date:                Mon, 16 Jul 2012   Prob (F-statistic):           5.78e-05\n",
        "Time:                        12:10:01   Log-Likelihood:                -721.77\n",
        "No. Observations:                 200   AIC:                             1452.\n",
        "Df Residuals:                     196   BIC:                             1465.\n",
        "Df Model:                           3                                         \n",
        "=====================================================================================\n",
        "                        coef    std err          t      P>|t|      [95.0% Conf. Int.]\n",
        "-------------------------------------------------------------------------------------\n",
        "Intercept            51.6784      0.982     52.619      0.000        49.741    53.615\n",
        "C(race, Sum)[S.1]    -5.2200      1.631     -3.200      0.002        -8.437    -2.003\n",
        "C(race, Sum)[S.2]     6.3216      2.160      2.926      0.004         2.061    10.582\n",
        "C(race, Sum)[S.3]    -3.4784      1.732     -2.008      0.046        -6.895    -0.062\n",
        "==============================================================================\n",
        "Omnibus:                       10.487   Durbin-Watson:                   1.779\n",
        "Prob(Omnibus):                  0.005   Jarque-Bera (JB):               11.031\n",
        "Skew:                          -0.551   Prob(JB):                      0.00402\n",
        "Kurtosis:                       2.670   Cond. No.                         6.72\n",
        "==============================================================================\n"
       ]
      }
     ],
     "prompt_number": 10
    },
    {
     "cell_type": "raw",
     "metadata": {},
     "source": [
      "This corresponds to a parameterization that forces all the coefficients to sum to zero. Notice that the intercept here is the grand mean where the grand mean is the mean of means of the dependent variable by each level."
     ]
    },
    {
     "cell_type": "code",
     "collapsed": false,
     "input": [
      "hsb2.groupby('race')['write'].mean().mean()"
     ],
     "language": "python",
     "metadata": {},
     "outputs": [
      {
       "output_type": "pyout",
       "prompt_number": 11,
       "text": [
        "51.678376436781619"
       ]
      }
     ],
     "prompt_number": 11
    },
    {
     "cell_type": "heading",
     "level": 3,
     "metadata": {},
     "source": [
      "Backward Difference Coding"
     ]
    },
    {
     "cell_type": "raw",
     "metadata": {},
     "source": [
      "In backward difference coding, the mean of the dependent variable for a level is compared with the mean of the dependent variable for the prior level. This type of coding may be useful for a nominal or an ordinal variable."
     ]
    },
    {
     "cell_type": "code",
     "collapsed": false,
     "input": [
      "from patsy.contrasts import Diff\n",
      "contrast = Diff().code_without_intercept(levels)\n",
      "print contrast.matrix"
     ],
     "language": "python",
     "metadata": {},
     "outputs": [
      {
       "output_type": "stream",
       "stream": "stdout",
       "text": [
        "[[-0.75 -0.5  -0.25]\n",
        " [ 0.25 -0.5  -0.25]\n",
        " [ 0.25  0.5  -0.25]\n",
        " [ 0.25  0.5   0.75]]\n"
       ]
      }
     ],
     "prompt_number": 12
    },
    {
     "cell_type": "code",
     "collapsed": false,
     "input": [
      "mod = ols(\"write ~ C(race, Diff)\", df=hsb2)\n",
      "res = mod.fit()\n",
      "print res.summary()"
     ],
     "language": "python",
     "metadata": {},
     "outputs": [
      {
       "output_type": "stream",
       "stream": "stdout",
       "text": [
        "                            OLS Regression Results                            \n",
        "==============================================================================\n",
        "Dep. Variable:                  write   R-squared:                       0.107\n",
        "Model:                            OLS   Adj. R-squared:                  0.093\n",
        "Method:                 Least Squares   F-statistic:                     7.833\n",
        "Date:                Mon, 16 Jul 2012   Prob (F-statistic):           5.78e-05\n",
        "Time:                        12:10:02   Log-Likelihood:                -721.77\n",
        "No. Observations:                 200   AIC:                             1452.\n",
        "Df Residuals:                     196   BIC:                             1465.\n",
        "Df Model:                           3                                         \n",
        "======================================================================================\n",
        "                         coef    std err          t      P>|t|      [95.0% Conf. Int.]\n",
        "--------------------------------------------------------------------------------------\n",
        "Intercept             51.6784      0.982     52.619      0.000        49.741    53.615\n",
        "C(race, Diff)[D.1]    11.5417      3.286      3.512      0.001         5.061    18.022\n",
        "C(race, Diff)[D.2]    -9.8000      3.388     -2.893      0.004       -16.481    -3.119\n",
        "C(race, Diff)[D.3]     5.8552      2.153      2.720      0.007         1.610    10.101\n",
        "==============================================================================\n",
        "Omnibus:                       10.487   Durbin-Watson:                   1.779\n",
        "Prob(Omnibus):                  0.005   Jarque-Bera (JB):               11.031\n",
        "Skew:                          -0.551   Prob(JB):                      0.00402\n",
        "Kurtosis:                       2.670   Cond. No.                         8.30\n",
        "==============================================================================\n"
       ]
      }
     ],
     "prompt_number": 13
    },
    {
     "cell_type": "raw",
     "metadata": {},
     "source": [
      "For example, here the coefficient on level 1 is the mean of `write` at level 2 compared with the mean at level 1. Ie.,"
     ]
    },
    {
     "cell_type": "code",
     "collapsed": false,
     "input": [
      "res.params[\"C(race, Diff)[D.1]\"]\n",
      "hsb2.groupby('race').mean()[\"write\"][2] - \\\n",
      "     hsb2.groupby('race').mean()[\"write\"][1]"
     ],
     "language": "python",
     "metadata": {},
     "outputs": [
      {
       "output_type": "pyout",
       "prompt_number": 14,
       "text": [
        "11.541666666666664"
       ]
      }
     ],
     "prompt_number": 14
    },
    {
     "cell_type": "heading",
     "level": 3,
     "metadata": {},
     "source": [
      "Helmert Coding"
     ]
    },
    {
     "cell_type": "raw",
     "metadata": {},
     "source": [
      "Our version of Helmert coding is sometimes referred to as Reverse Helmert Coding. The mean of the dependent variable for a level is compared to the mean of the dependent variable over all previous levels. Hence, the name 'reverse' being sometimes applied to differentiate from forward Helmert coding. This comparison does not make much sense for a nominal variable such as race, but we would use the Helmert contrast like so:"
     ]
    },
    {
     "cell_type": "code",
     "collapsed": false,
     "input": [
      "from patsy.contrasts import Helmert\n",
      "contrast = Helmert().code_without_intercept(levels)\n",
      "print contrast.matrix\n",
      "\n"
     ],
     "language": "python",
     "metadata": {},
     "outputs": [
      {
       "output_type": "stream",
       "stream": "stdout",
       "text": [
        "[[-1. -1. -1.]\n",
        " [ 1. -1. -1.]\n",
        " [ 0.  2. -1.]\n",
        " [ 0.  0.  3.]]\n"
       ]
      }
     ],
     "prompt_number": 15
    },
    {
     "cell_type": "code",
     "collapsed": false,
     "input": [
      "mod = ols(\"write ~ C(race, Helmert)\", df=hsb2)\n",
      "res = mod.fit()\n",
      "print res.summary()"
     ],
     "language": "python",
     "metadata": {},
     "outputs": [
      {
       "output_type": "stream",
       "stream": "stdout",
       "text": [
        "                            OLS Regression Results                            \n",
        "==============================================================================\n",
        "Dep. Variable:                  write   R-squared:                       0.107\n",
        "Model:                            OLS   Adj. R-squared:                  0.093\n",
        "Method:                 Least Squares   F-statistic:                     7.833\n",
        "Date:                Mon, 16 Jul 2012   Prob (F-statistic):           5.78e-05\n",
        "Time:                        12:10:02   Log-Likelihood:                -721.77\n",
        "No. Observations:                 200   AIC:                             1452.\n",
        "Df Residuals:                     196   BIC:                             1465.\n",
        "Df Model:                           3                                         \n",
        "=========================================================================================\n",
        "                            coef    std err          t      P>|t|      [95.0% Conf. Int.]\n",
        "-----------------------------------------------------------------------------------------\n",
        "Intercept                51.6784      0.982     52.619      0.000        49.741    53.615\n",
        "C(race, Helmert)[H.2]     5.7708      1.643      3.512      0.001         2.530     9.011\n",
        "C(race, Helmert)[H.3]    -1.3431      0.867     -1.548      0.123        -3.054     0.368\n",
        "C(race, Helmert)[H.4]     0.7923      0.372      2.130      0.034         0.059     1.526\n",
        "==============================================================================\n",
        "Omnibus:                       10.487   Durbin-Watson:                   1.779\n",
        "Prob(Omnibus):                  0.005   Jarque-Bera (JB):               11.031\n",
        "Skew:                          -0.551   Prob(JB):                      0.00402\n",
        "Kurtosis:                       2.670   Cond. No.                         7.26\n",
        "==============================================================================\n"
       ]
      }
     ],
     "prompt_number": 16
    },
    {
     "cell_type": "raw",
     "metadata": {},
     "source": [
      "To illustrate, the comparison on level 4 is the mean of the dependent variable at the previous three levels taken from the mean at level 4"
     ]
    },
    {
     "cell_type": "code",
     "collapsed": false,
     "input": [
      "grouped = hsb2.groupby('race')\n",
      "grouped.mean()[\"write\"][4] - grouped.mean()[\"write\"][:3].mean()"
     ],
     "language": "python",
     "metadata": {},
     "outputs": [
      {
       "output_type": "pyout",
       "prompt_number": 17,
       "text": [
        "3.1690613026819818"
       ]
      }
     ],
     "prompt_number": 17
    },
    {
     "cell_type": "raw",
     "metadata": {},
     "source": [
      "As you can see, these are only equal up to a constant. Other versions of the Helmert contrast give the actual difference in means. Regardless, the hypothesis tests are the same."
     ]
    },
    {
     "cell_type": "code",
     "collapsed": false,
     "input": [
      "k = 4\n",
      "1./k * (grouped.mean()[\"write\"][k] - grouped.mean()[\"write\"][:k-1].mean())\n",
      "k = 3\n",
      "1./k * (grouped.mean()[\"write\"][k] - grouped.mean()[\"write\"][:k-1].mean())"
     ],
     "language": "python",
     "metadata": {},
     "outputs": [
      {
       "output_type": "pyout",
       "prompt_number": 18,
       "text": [
        "-1.3430555555555561"
       ]
      }
     ],
     "prompt_number": 18
    },
    {
     "cell_type": "heading",
     "level": 3,
     "metadata": {},
     "source": [
      "Orthogonal Polynomial Coding"
     ]
    },
    {
     "cell_type": "raw",
     "metadata": {},
     "source": [
      "The coefficients taken on by polynomial coding for `k=4` levels are the linear, quadratic, and cubic trends in the categorical variable. The categorical variable here is assumed to be represented by an underlying, equally spaced numeric variable. Therefore, this type of encoding is used only for ordered categorical variables with equal spacing. In general, the polynomial contrast produces polynomials of order `k-1`. Since `race` is not an ordered factor variable let's use `read` as an example. First we need to create an ordered categorical from `read`."
     ]
    },
    {
     "cell_type": "code",
     "collapsed": false,
     "input": [
      "_, bins = np.histogram(hsb2.read, 3)\n",
      "try: # requires numpy master\n",
      "   readcat = np.digitize(hsb2.read, bins, True)\n",
      "except:\n",
      "   readcat = np.digitize(hsb2.read, bins)\n",
      "hsb2['readcat'] = readcat\n",
      "hsb2.groupby('readcat').mean()['write']"
     ],
     "language": "python",
     "metadata": {},
     "outputs": [
      {
       "output_type": "pyout",
       "prompt_number": 19,
       "text": [
        "readcat\n",
        "0          46.000\n",
        "1          44.980\n",
        "2          53.356\n",
        "3          60.128\n",
        "Name: write"
       ]
      }
     ],
     "prompt_number": 19
    },
    {
     "cell_type": "code",
     "collapsed": false,
     "input": [
      "from patsy.contrasts import Poly\n",
      "levels = hsb2.readcat.unique().tolist()\n",
      "contrast = Poly().code_without_intercept(levels)\n",
      "print contrast.matrix"
     ],
     "language": "python",
     "metadata": {},
     "outputs": [
      {
       "output_type": "stream",
       "stream": "stdout",
       "text": [
        "[[-0.6708  0.5    -0.2236]\n",
        " [-0.2236 -0.5     0.6708]\n",
        " [ 0.2236 -0.5    -0.6708]\n",
        " [ 0.6708  0.5     0.2236]]\n"
       ]
      }
     ],
     "prompt_number": 20
    },
    {
     "cell_type": "code",
     "collapsed": false,
     "input": [
      "mod = ols(\"write ~ C(readcat, Poly)\", df=hsb2)\n",
      "res = mod.fit()\n",
      "print res.summary()"
     ],
     "language": "python",
     "metadata": {},
     "outputs": [
      {
       "output_type": "stream",
       "stream": "stdout",
       "text": [
        "                            OLS Regression Results                            \n",
        "==============================================================================\n",
        "Dep. Variable:                  write   R-squared:                       0.320\n",
        "Model:                            OLS   Adj. R-squared:                  0.309\n",
        "Method:                 Least Squares   F-statistic:                     30.73\n",
        "Date:                Mon, 16 Jul 2012   Prob (F-statistic):           2.51e-16\n",
        "Time:                        12:10:03   Log-Likelihood:                -694.54\n",
        "No. Observations:                 200   AIC:                             1397.\n",
        "Df Residuals:                     196   BIC:                             1410.\n",
        "Df Model:                           3                                         \n",
        "==============================================================================================\n",
        "                                 coef    std err          t      P>|t|      [95.0% Conf. Int.]\n",
        "----------------------------------------------------------------------------------------------\n",
        "Intercept                     51.1161      2.018     25.324      0.000        47.135    55.097\n",
        "C(readcat, Poly).Linear       11.3501      5.348      2.122      0.035         0.803    21.897\n",
        "C(readcat, Poly).Quadratic     3.8954      4.037      0.965      0.336        -4.066    11.857\n",
        "C(readcat, Poly).Cubic        -2.4598      1.998     -1.231      0.220        -6.400     1.480\n",
        "==============================================================================\n",
        "Omnibus:                        9.741   Durbin-Watson:                   1.699\n",
        "Prob(Omnibus):                  0.008   Jarque-Bera (JB):               10.263\n",
        "Skew:                          -0.535   Prob(JB):                      0.00591\n",
        "Kurtosis:                       2.703   Cond. No.                         13.7\n",
        "==============================================================================\n"
       ]
      }
     ],
     "prompt_number": 21
    },
    {
     "cell_type": "raw",
     "metadata": {},
     "source": [
      "As you can see, readcat has a significant linear effect on the dependent variable `write` but not a significant quadratic or cubic effect."
     ]
    }
   ],
   "metadata": {}
  }
 ]
}