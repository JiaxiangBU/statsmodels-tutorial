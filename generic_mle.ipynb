{
 "metadata": {
  "name": "generic_mle"
 },
 "nbformat": 3,
 "nbformat_minor": 0,
 "worksheets": [
  {
   "cells": [
    {
     "cell_type": "code",
     "collapsed": false,
     "input": [
      "from statsmodels.base.model import GenericLikelihoodModel"
     ],
     "language": "python",
     "metadata": {},
     "outputs": [],
     "prompt_number": 6
    },
    {
     "cell_type": "code",
     "collapsed": false,
     "input": [
      "print sm.datasets.spector.NOTE"
     ],
     "language": "python",
     "metadata": {},
     "outputs": [
      {
       "output_type": "stream",
       "stream": "stdout",
       "text": [
        "\n",
        "Number of Observations - 32\n",
        "\n",
        "Number of Variables - 4\n",
        "\n",
        "Variable name definitions::\n",
        "\n",
        "    Grade - binary variable indicating whether or not a student's grade\n",
        "            improved.  1 indicates an improvement.\n",
        "    TUCE  - Test score on economics test\n",
        "    PSI   - participation in program\n",
        "    GPA   - Student's grade point average\n",
        "\n"
       ]
      }
     ],
     "prompt_number": 2
    },
    {
     "cell_type": "code",
     "collapsed": false,
     "input": [
      "data = sm.datasets.spector.load_pandas()\n",
      "exog = sm.add_constant(data.exog, prepend=True)\n",
      "endog = data.endog"
     ],
     "language": "python",
     "metadata": {},
     "outputs": [],
     "prompt_number": 3
    },
    {
     "cell_type": "code",
     "collapsed": false,
     "input": [
      "sm_probit = sm.Probit(endog, exog).fit()"
     ],
     "language": "python",
     "metadata": {},
     "outputs": [
      {
       "output_type": "stream",
       "stream": "stdout",
       "text": [
        "Optimization terminated successfully.\n",
        "         Current function value: 12.818804\n",
        "         Iterations 6\n"
       ]
      }
     ],
     "prompt_number": 9
    },
    {
     "cell_type": "raw",
     "metadata": {},
     "source": [
      "To create your own Likelihood Model, you just need to overwrite the loglike method."
     ]
    },
    {
     "cell_type": "code",
     "collapsed": false,
     "input": [
      "class MyProbit(GenericLikelihoodModel):\n",
      "    def loglike(self, params):\n",
      "        exog = self.exog\n",
      "        endog = self.endog\n",
      "        q = 2 * endog - 1\n",
      "        return stats.norm.logcdf(q*np.dot(exog, params)).sum()"
     ],
     "language": "python",
     "metadata": {},
     "outputs": [],
     "prompt_number": 23
    },
    {
     "cell_type": "code",
     "collapsed": false,
     "input": [
      "my_probit = MyProbit(endog, exog).fit()"
     ],
     "language": "python",
     "metadata": {},
     "outputs": [
      {
       "output_type": "stream",
       "stream": "stdout",
       "text": [
        "Optimization terminated successfully.\n",
        "         Current function value: 12.818804\n",
        "         Iterations: 292\n",
        "         Function evaluations: 494\n"
       ]
      }
     ],
     "prompt_number": 24
    },
    {
     "cell_type": "code",
     "collapsed": false,
     "input": [
      "print sm_probit.params"
     ],
     "language": "python",
     "metadata": {},
     "outputs": [
      {
       "output_type": "stream",
       "stream": "stdout",
       "text": [
        "const   -7.452\n",
        "GPA      1.626\n",
        "TUCE     0.052\n",
        "PSI      1.426\n"
       ]
      }
     ],
     "prompt_number": 16
    },
    {
     "cell_type": "code",
     "collapsed": false,
     "input": [
      "print sm_probit.cov_params()"
     ],
     "language": "python",
     "metadata": {},
     "outputs": [
      {
       "output_type": "stream",
       "stream": "stdout",
       "text": [
        "       const    GPA   TUCE    PSI\n",
        "const  6.464 -1.170 -0.101 -0.595\n",
        "GPA   -1.170  0.481 -0.019  0.105\n",
        "TUCE  -0.101 -0.019  0.007  0.002\n",
        "PSI   -0.595  0.105  0.002  0.354\n"
       ]
      }
     ],
     "prompt_number": 18
    },
    {
     "cell_type": "code",
     "collapsed": false,
     "input": [
      "print my_probit.params"
     ],
     "language": "python",
     "metadata": {},
     "outputs": [
      {
       "output_type": "stream",
       "stream": "stdout",
       "text": [
        "[-7.4523  1.6258  0.0517  1.4263]\n"
       ]
      }
     ],
     "prompt_number": 15
    },
    {
     "cell_type": "raw",
     "metadata": {},
     "source": [
      "You can get the variance-covariance of the parameters. Notice that we didn't have to provide Hessian or Score functions."
     ]
    },
    {
     "cell_type": "code",
     "collapsed": false,
     "input": [
      "print my_probit.cov_params()"
     ],
     "language": "python",
     "metadata": {},
     "outputs": [
      {
       "output_type": "stream",
       "stream": "stdout",
       "text": [
        "[[ 6.464  -1.1696 -0.1012 -0.5948]\n",
        " [-1.1696  0.4815 -0.0189  0.1054]\n",
        " [-0.1012 -0.0189  0.007   0.0025]\n",
        " [-0.5948  0.1054  0.0025  0.3541]]\n"
       ]
      }
     ],
     "prompt_number": 27
    }
   ],
   "metadata": {}
  }
 ]
}